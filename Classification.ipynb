{
 "cells": [
  {
   "cell_type": "code",
   "execution_count": 1,
   "metadata": {},
   "outputs": [],
   "source": [
    "import pandas as pd\n",
    "import numpy as np\n",
    "import time\n",
    "from tqdm import tqdm #https://github.com/tqdm/tqdm\n",
    "\n",
    "import warnings\n",
    "warnings.filterwarnings(\"ignore\")\n",
    "import gc; gc.enable()"
   ]
  },
  {
   "cell_type": "code",
   "execution_count": 2,
   "metadata": {},
   "outputs": [],
   "source": [
    "# from LGBWrapper import RegressorModel\n",
    "# from LGBWrapper import LGBWrapper_regr\n",
    "# from sklearn.model_selection import KFold, GroupKFold\n",
    "\n",
    "from sklearn.model_selection import cross_val_score\n",
    "from sklearn.ensemble import RandomForestClassifier\n",
    "from sklearn.linear_model import ElasticNetCV, LassoCV, RidgeCV\n",
    "from sklearn.ensemble import GradientBoostingClassifier\n",
    "from sklearn.svm import SVR\n",
    "from xgboost import XGBClassifier\n",
    "from lightgbm import LGBMClassifier\n",
    "from catboost import CatBoostClassifier\n",
    "from sklearn.ensemble import AdaBoostClassifier\n",
    "\n",
    "from sklearn.metrics import cohen_kappa_score\n",
    "from sklearn.model_selection import train_test_split\n",
    "\n",
    "from xgboost import XGBRegressor"
   ]
  },
  {
   "cell_type": "code",
   "execution_count": 3,
   "metadata": {},
   "outputs": [],
   "source": [
    "#Display setting to see everything in each row\n",
    "pd.set_option('display.max_columns', None)\n",
    "pd.set_option('max_colwidth', 600)"
   ]
  },
  {
   "cell_type": "code",
   "execution_count": 4,
   "metadata": {},
   "outputs": [
    {
     "data": {
      "text/plain": [
       "40"
      ]
     },
     "execution_count": 4,
     "metadata": {},
     "output_type": "execute_result"
    }
   ],
   "source": [
    "gc.collect()"
   ]
  },
  {
   "cell_type": "markdown",
   "metadata": {},
   "source": [
    "# Helper function"
   ]
  },
  {
   "cell_type": "code",
   "execution_count": 7,
   "metadata": {},
   "outputs": [],
   "source": [
    "def check_labels_in_train_labels(df):\n",
    "    temp=label(df)\n",
    "    temp=pd.merge(train_labels, temp, on='game_session')\n",
    "    error= sum(temp.accuracy_group==temp.group)\n",
    "    print( \"Num correct labels are:\", error )\n",
    "    print( \"Percentage of correctness:\", round(error*100/len(df),2))\n",
    "    \n",
    "def label(df):\n",
    "    group=[]\n",
    "    for i in df.ASM_accuracy:\n",
    "        if i==0:\n",
    "            group.append(0)\n",
    "        elif i==1: \n",
    "            group.append(3)\n",
    "        elif i>=1/2:\n",
    "            group.append(2)\n",
    "        elif i<1/2:\n",
    "            group.append(1)\n",
    "        else:\n",
    "            print('invalid')\n",
    "    result=pd.DataFrame({})\n",
    "    result['game_session']=df.game_session\n",
    "    result['group']=group\n",
    "    return result"
   ]
  },
  {
   "cell_type": "code",
   "execution_count": 8,
   "metadata": {},
   "outputs": [],
   "source": [
    "def cat_col(df):\n",
    "    cat_col_list=[]\n",
    "    for col in df.columns:\n",
    "        if (df[col].dtype=='O'):\n",
    "            cat_col_list.append(col)\n",
    "    return cat_col_list"
   ]
  },
  {
   "cell_type": "code",
   "execution_count": 13,
   "metadata": {},
   "outputs": [],
   "source": [
    "def cappa_cohen(estimator, X, y ):\n",
    "    max_rat=3\n",
    "    a1=estimator.predict(X)\n",
    "    a2=y\n",
    "    a1 = np.asarray(a1, dtype=int)\n",
    "    a2 = np.asarray(a2, dtype=int)\n",
    "\n",
    "    hist1 = np.zeros((max_rat + 1, ))\n",
    "    hist2 = np.zeros((max_rat + 1, ))\n",
    "\n",
    "    o = 0\n",
    "    for k in range(a1.shape[0]):\n",
    "        i, j = a1[k], a2[k]\n",
    "        hist1[i] += 1\n",
    "        hist2[j] += 1\n",
    "        o +=  (i - j) * (i - j)\n",
    "\n",
    "    e = 0\n",
    "    for i in range(max_rat + 1):\n",
    "        for j in range(max_rat + 1):\n",
    "            e += hist1[i] * hist2[j] * (i - j) * (i - j)\n",
    "\n",
    "    e = e / a1.shape[0]\n",
    "\n",
    "    return 1 - o / e"
   ]
  },
  {
   "cell_type": "markdown",
   "metadata": {},
   "source": [
    "# Input data"
   ]
  },
  {
   "cell_type": "code",
   "execution_count": 10,
   "metadata": {},
   "outputs": [],
   "source": [
    "#Import official data\n",
    "X_test = pd.read_csv(\"output/X_test.csv\")\n",
    "X_train = pd.read_csv(\"output/X_train.csv\")\n",
    "label = pd.read_csv(\"output/label.csv\")\n",
    "sample_submission=pd.read_csv('input/sample_submission.csv')\n",
    "\n",
    "X_train=X_train.drop(['ASM_GT','ASM_accuracy','ASM_correct', 'ASM_incorrect',\n",
    "                     'Assessment_title', 'game_session', 'installation_id'],axis=1)"
   ]
  },
  {
   "cell_type": "markdown",
   "metadata": {},
   "source": [
    "# Simple Classification"
   ]
  },
  {
   "cell_type": "code",
   "execution_count": 14,
   "metadata": {},
   "outputs": [],
   "source": [
    "gbc=GradientBoostingClassifier()\n",
    "xgb=XGBClassifier()\n",
    "lgbm=LGBMClassifier()\n",
    "rfc = RandomForestClassifier()"
   ]
  },
  {
   "cell_type": "code",
   "execution_count": 15,
   "metadata": {},
   "outputs": [
    {
     "data": {
      "text/plain": [
       "[]"
      ]
     },
     "execution_count": 15,
     "metadata": {},
     "output_type": "execute_result"
    }
   ],
   "source": [
    "cat_col(X_train)"
   ]
  },
  {
   "cell_type": "code",
   "execution_count": 84,
   "metadata": {
    "scrolled": true
   },
   "outputs": [],
   "source": [
    "# %time\n",
    "# scores1=cross_val_score(gbc,X_train, label, cv=3,scoring=cappa_cohen)\n",
    "# print(\"Done\")\n",
    "# scores2=cross_val_score(xgb,X_train, label, cv=3,scoring=cappa_cohen)\n",
    "# print(\"Done\")\n",
    "# scores3=cross_val_score(lgbm,X_train, label, cv=3,scoring=cappa_cohen)\n",
    "# print(\"Done\")\n",
    "# scores4=cross_val_score(rfc, X_train, label, cv=3,scoring=cappa_cohen)"
   ]
  },
  {
   "cell_type": "code",
   "execution_count": 18,
   "metadata": {},
   "outputs": [
    {
     "name": "stdout",
     "output_type": "stream",
     "text": [
      "0.8387022896249613 0.010159699620524383\n",
      "0.8302070795199619 0.0014718950456766768\n",
      "0.862941531195613 0.007017078340231931\n",
      "0.7185412839061321 0.012911907466836552\n"
     ]
    }
   ],
   "source": [
    "print(scores1.mean(), scores1.std())\n",
    "print(scores2.mean(), scores2.std())\n",
    "print(scores3.mean(), scores3.std())\n",
    "print(scores4.mean(), scores4.std())"
   ]
  },
  {
   "cell_type": "code",
   "execution_count": 21,
   "metadata": {},
   "outputs": [],
   "source": [
    "#Prediction\n",
    "X_test=X_test[X_train.columns]\n",
    "lgbm.fit(X_train,label)\n",
    "prediction=lgbm.predict(X_test)"
   ]
  },
  {
   "cell_type": "code",
   "execution_count": 22,
   "metadata": {},
   "outputs": [
    {
     "data": {
      "text/plain": [
       "0    658\n",
       "3    327\n",
       "2      9\n",
       "1      6\n",
       "dtype: int64"
      ]
     },
     "execution_count": 22,
     "metadata": {},
     "output_type": "execute_result"
    }
   ],
   "source": [
    "pd.Series(prediction).value_counts()"
   ]
  },
  {
   "cell_type": "code",
   "execution_count": 26,
   "metadata": {},
   "outputs": [
    {
     "data": {
      "text/plain": [
       "<matplotlib.axes._subplots.AxesSubplot at 0x1a1ac7b470>"
      ]
     },
     "execution_count": 26,
     "metadata": {},
     "output_type": "execute_result"
    },
    {
     "data": {
      "image/png": "[encoded data removed]",
      "text/plain": [
       "<Figure size 432x288 with 1 Axes>"
      ]
     },
     "metadata": {
      "needs_background": "light"
     },
     "output_type": "display_data"
    }
   ],
   "source": [
    "pd.Series(prediction).hist()"
   ]
  },
  {
   "cell_type": "markdown",
   "metadata": {},
   "source": [
    "# More Complicated Classification \n",
    "\n",
    "First classify 0 and non-0 group, and then classify 1,2,3"
   ]
  },
  {
   "cell_type": "code",
   "execution_count": 76,
   "metadata": {},
   "outputs": [],
   "source": [
    "def custom_model(train,label,test): #Label here is a dataframe with accuracy stored in 'group'\n",
    "    \n",
    "    #################Training###################\n",
    "    lgbm_bin=LGBMClassifier()\n",
    "    lgbm_bin.fit(train, [1 if i>0 else 0 for i in label.group]) #train on binary label\n",
    "    \n",
    "    #Create a new training set for 3 targets classifier\n",
    "    bin_prediction=lgbm_bin.predict(train)\n",
    "    non_zero_index=[i for i in range(len(bin_prediction)) if bin_prediction[i]==1]\n",
    "    train_new=train.iloc[non_zero_index]\n",
    "    label_new=[label.group[i]  for i in non_zero_index ]\n",
    "    \n",
    "    lgbm_three=LGBMClassifier()\n",
    "    lgbm_three.fit(train_new,label_new)\n",
    "    \n",
    "    #################Predicting###################\n",
    "    y_bin=lgbm_bin.predict(X_test)\n",
    "    non_zero_index=[i for i in range(len(y_bin)) if y_bin[i]==1]\n",
    "    test_new=test.iloc[non_zero_index]\n",
    "    \n",
    "    y_three=lgbm_three.predict(test_new)\n",
    "    \n",
    "    y=y_bin\n",
    "    for index, new_value in zip(non_zero_index, y_three):\n",
    "        y[index]=new_value\n",
    "    \n",
    "    return y"
   ]
  },
  {
   "cell_type": "code",
   "execution_count": 77,
   "metadata": {},
   "outputs": [],
   "source": [
    "prediction=custom_model(X_train, label, X_test )"
   ]
  },
  {
   "cell_type": "code",
   "execution_count": 80,
   "metadata": {},
   "outputs": [
    {
     "data": {
      "text/plain": [
       "0    701\n",
       "3    287\n",
       "1      7\n",
       "2      5\n",
       "dtype: int64"
      ]
     },
     "execution_count": 80,
     "metadata": {},
     "output_type": "execute_result"
    }
   ],
   "source": [
    "pd.Series(prediction).value_counts()"
   ]
  },
  {
   "cell_type": "code",
   "execution_count": 81,
   "metadata": {},
   "outputs": [
    {
     "data": {
      "text/plain": [
       "<matplotlib.axes._subplots.AxesSubplot at 0x1a1dc05d30>"
      ]
     },
     "execution_count": 81,
     "metadata": {},
     "output_type": "execute_result"
    },
    {
     "data": {
      "image/png": "[encoded data removed]",
      "text/plain": [
       "<Figure size 432x288 with 1 Axes>"
      ]
     },
     "metadata": {
      "needs_background": "light"
     },
     "output_type": "display_data"
    }
   ],
   "source": [
    "pd.Series(prediction).hist()"
   ]
  },
  {
   "cell_type": "code",
   "execution_count": 83,
   "metadata": {},
   "outputs": [
    {
     "data": {
      "text/plain": [
       "(18837, 533)"
      ]
     },
     "execution_count": 83,
     "metadata": {},
     "output_type": "execute_result"
    }
   ],
   "source": [
    "X_train.shape"
   ]
  },
  {
   "cell_type": "code",
   "execution_count": null,
   "metadata": {},
   "outputs": [],
   "source": []
  }
 ],
 "metadata": {
  "kernelspec": {
   "display_name": "Python 3",
   "language": "python",
   "name": "python3"
  },
  "language_info": {
   "codemirror_mode": {
    "name": "ipython",
    "version": 3
   },
   "file_extension": ".py",
   "mimetype": "text/x-python",
   "name": "python",
   "nbconvert_exporter": "python",
   "pygments_lexer": "ipython3",
   "version": "3.7.3"
  }
 },
 "nbformat": 4,
 "nbformat_minor": 2
}
